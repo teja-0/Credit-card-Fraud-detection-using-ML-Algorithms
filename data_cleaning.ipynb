{
  "nbformat": 4,
  "nbformat_minor": 0,
  "metadata": {
    "colab": {
      "provenance": []
    },
    "kernelspec": {
      "name": "python3",
      "display_name": "Python 3"
    },
    "language_info": {
      "name": "python"
    }
  },
  "cells": [
    {
      "cell_type": "markdown",
      "source": [
        "Steps for Cleaning:\n",
        "Handle Missing Values:\n",
        "Decide on an imputation strategy for CREDIT_LIMIT and MINIMUM_PAYMENTS (mean, median, or other).\n",
        "Remove Unnecessary Columns:\n",
        "CUST_ID might not be relevant for analysis.\n",
        "Check for Outliers:\n",
        "Review numeric columns for extreme values that could distort results.\n",
        "Standardize or Normalize Data:\n",
        "Normalize numeric values if required for ML algorithms.\n",
        "Feature Engineering:\n",
        "Consider creating new columns or deriving insights if needed."
      ],
      "metadata": {
        "id": "qEJ4Kijt5zCd"
      }
    },
    {
      "cell_type": "code",
      "source": [
        "import pandas as pd\n",
        "import numpy as np\n",
        "from sklearn.model_selection import train_test_split\n",
        "from sklearn.tree import DecisionTreeClassifier\n",
        "from sklearn.neural_network import MLPClassifier\n",
        "from sklearn.metrics import accuracy_score, classification_report\n"
      ],
      "metadata": {
        "id": "z0Vxu7spL_HO"
      },
      "execution_count": null,
      "outputs": []
    },
    {
      "cell_type": "markdown",
      "source": [
        "# importing dataset"
      ],
      "metadata": {
        "id": "kvXOogn2GddL"
      }
    },
    {
      "cell_type": "code",
      "source": [
        "import pandas as pd\n",
        "\n",
        "# Load the uploaded dataset\n",
        "file_path = '/content/Credit Card.csv'\n",
        "data = pd.read_csv(file_path)\n",
        "\n",
        "# Display basic information about the dataset\n",
        "data_info = {\n",
        "    \"head\": data.head(),\n",
        "    \"info\": data.info(),\n",
        "    \"missing_values\": data.isnull().sum(),\n",
        "    \"shape\": data.shape\n",
        "}\n",
        "\n",
        "data_info\n"
      ],
      "metadata": {
        "colab": {
          "base_uri": "https://localhost:8080/"
        },
        "id": "BNy1s6Ar1KCi",
        "outputId": "71d635bb-75cd-45cf-9604-d9cd2bfa908e"
      },
      "execution_count": null,
      "outputs": [
        {
          "output_type": "stream",
          "name": "stdout",
          "text": [
            "<class 'pandas.core.frame.DataFrame'>\n",
            "RangeIndex: 8950 entries, 0 to 8949\n",
            "Data columns (total 18 columns):\n",
            " #   Column                            Non-Null Count  Dtype  \n",
            "---  ------                            --------------  -----  \n",
            " 0   CUST_ID                           8950 non-null   object \n",
            " 1   BALANCE                           8950 non-null   float64\n",
            " 2   BALANCE_FREQUENCY                 8950 non-null   float64\n",
            " 3   PURCHASES                         8950 non-null   float64\n",
            " 4   ONEOFF_PURCHASES                  8950 non-null   float64\n",
            " 5   INSTALLMENTS_PURCHASES            8950 non-null   float64\n",
            " 6   CASH_ADVANCE                      8950 non-null   float64\n",
            " 7   PURCHASES_FREQUENCY               8950 non-null   float64\n",
            " 8   ONEOFF_PURCHASES_FREQUENCY        8950 non-null   float64\n",
            " 9   PURCHASES_INSTALLMENTS_FREQUENCY  8950 non-null   float64\n",
            " 10  CASH_ADVANCE_FREQUENCY            8950 non-null   float64\n",
            " 11  CASH_ADVANCE_TRX                  8950 non-null   int64  \n",
            " 12  PURCHASES_TRX                     8950 non-null   int64  \n",
            " 13  CREDIT_LIMIT                      8949 non-null   float64\n",
            " 14  PAYMENTS                          8950 non-null   float64\n",
            " 15  MINIMUM_PAYMENTS                  8637 non-null   float64\n",
            " 16  PRC_FULL_PAYMENT                  8950 non-null   float64\n",
            " 17  TENURE                            8950 non-null   int64  \n",
            "dtypes: float64(14), int64(3), object(1)\n",
            "memory usage: 1.2+ MB\n"
          ]
        },
        {
          "output_type": "execute_result",
          "data": {
            "text/plain": [
              "{'head':   CUST_ID      BALANCE  BALANCE_FREQUENCY  PURCHASES  ONEOFF_PURCHASES  \\\n",
              " 0  C10001    40.900749           0.818182      95.40              0.00   \n",
              " 1  C10002  3202.467416           0.909091       0.00              0.00   \n",
              " 2  C10003  2495.148862           1.000000     773.17            773.17   \n",
              " 3  C10004  1666.670542           0.636364    1499.00           1499.00   \n",
              " 4  C10005   817.714335           1.000000      16.00             16.00   \n",
              " \n",
              "    INSTALLMENTS_PURCHASES  CASH_ADVANCE  PURCHASES_FREQUENCY  \\\n",
              " 0                    95.4      0.000000             0.166667   \n",
              " 1                     0.0   6442.945483             0.000000   \n",
              " 2                     0.0      0.000000             1.000000   \n",
              " 3                     0.0    205.788017             0.083333   \n",
              " 4                     0.0      0.000000             0.083333   \n",
              " \n",
              "    ONEOFF_PURCHASES_FREQUENCY  PURCHASES_INSTALLMENTS_FREQUENCY  \\\n",
              " 0                    0.000000                          0.083333   \n",
              " 1                    0.000000                          0.000000   \n",
              " 2                    1.000000                          0.000000   \n",
              " 3                    0.083333                          0.000000   \n",
              " 4                    0.083333                          0.000000   \n",
              " \n",
              "    CASH_ADVANCE_FREQUENCY  CASH_ADVANCE_TRX  PURCHASES_TRX  CREDIT_LIMIT  \\\n",
              " 0                0.000000                 0              2        1000.0   \n",
              " 1                0.250000                 4              0        7000.0   \n",
              " 2                0.000000                 0             12        7500.0   \n",
              " 3                0.083333                 1              1        7500.0   \n",
              " 4                0.000000                 0              1        1200.0   \n",
              " \n",
              "       PAYMENTS  MINIMUM_PAYMENTS  PRC_FULL_PAYMENT  TENURE  \n",
              " 0   201.802084        139.509787          0.000000      12  \n",
              " 1  4103.032597       1072.340217          0.222222      12  \n",
              " 2   622.066742        627.284787          0.000000      12  \n",
              " 3     0.000000               NaN          0.000000      12  \n",
              " 4   678.334763        244.791237          0.000000      12  ,\n",
              " 'info': None,\n",
              " 'missing_values': CUST_ID                               0\n",
              " BALANCE                               0\n",
              " BALANCE_FREQUENCY                     0\n",
              " PURCHASES                             0\n",
              " ONEOFF_PURCHASES                      0\n",
              " INSTALLMENTS_PURCHASES                0\n",
              " CASH_ADVANCE                          0\n",
              " PURCHASES_FREQUENCY                   0\n",
              " ONEOFF_PURCHASES_FREQUENCY            0\n",
              " PURCHASES_INSTALLMENTS_FREQUENCY      0\n",
              " CASH_ADVANCE_FREQUENCY                0\n",
              " CASH_ADVANCE_TRX                      0\n",
              " PURCHASES_TRX                         0\n",
              " CREDIT_LIMIT                          1\n",
              " PAYMENTS                              0\n",
              " MINIMUM_PAYMENTS                    313\n",
              " PRC_FULL_PAYMENT                      0\n",
              " TENURE                                0\n",
              " dtype: int64,\n",
              " 'shape': (8950, 18)}"
            ]
          },
          "metadata": {},
          "execution_count": 11
        }
      ]
    },
    {
      "cell_type": "markdown",
      "source": [
        "Handling Missing Values\n",
        "CREDIT_LIMIT: Only 1 missing value. We can impute it with the column’s mean or median.\n",
        "MINIMUM_PAYMENTS: 313 missing values. Imputation strategies:\n",
        "Mean or median imputation.\n",
        "If the column is skewed, median might be better."
      ],
      "metadata": {
        "id": "MkVWho5l6H0p"
      }
    },
    {
      "cell_type": "code",
      "source": [
        "# Impute missing values\n",
        "data['CREDIT_LIMIT'].fillna(data['CREDIT_LIMIT'].mean(), inplace=True)\n",
        "data['MINIMUM_PAYMENTS'].fillna(data['MINIMUM_PAYMENTS'].median(), inplace=True)\n",
        "\n",
        "# Verify no missing values remain\n",
        "missing_values = data.isnull().sum()\n",
        "print(missing_values)\n"
      ],
      "metadata": {
        "colab": {
          "base_uri": "https://localhost:8080/"
        },
        "id": "c6XnZT9H1P5l",
        "outputId": "6bd53f42-6562-4b4c-bf78-1dc92e8d2480"
      },
      "execution_count": null,
      "outputs": [
        {
          "output_type": "stream",
          "name": "stdout",
          "text": [
            "CUST_ID                             0\n",
            "BALANCE                             0\n",
            "BALANCE_FREQUENCY                   0\n",
            "PURCHASES                           0\n",
            "ONEOFF_PURCHASES                    0\n",
            "INSTALLMENTS_PURCHASES              0\n",
            "CASH_ADVANCE                        0\n",
            "PURCHASES_FREQUENCY                 0\n",
            "ONEOFF_PURCHASES_FREQUENCY          0\n",
            "PURCHASES_INSTALLMENTS_FREQUENCY    0\n",
            "CASH_ADVANCE_FREQUENCY              0\n",
            "CASH_ADVANCE_TRX                    0\n",
            "PURCHASES_TRX                       0\n",
            "CREDIT_LIMIT                        0\n",
            "PAYMENTS                            0\n",
            "MINIMUM_PAYMENTS                    0\n",
            "PRC_FULL_PAYMENT                    0\n",
            "TENURE                              0\n",
            "dtype: int64\n"
          ]
        },
        {
          "output_type": "stream",
          "name": "stderr",
          "text": [
            "<ipython-input-12-690bd64e4e48>:2: FutureWarning: A value is trying to be set on a copy of a DataFrame or Series through chained assignment using an inplace method.\n",
            "The behavior will change in pandas 3.0. This inplace method will never work because the intermediate object on which we are setting values always behaves as a copy.\n",
            "\n",
            "For example, when doing 'df[col].method(value, inplace=True)', try using 'df.method({col: value}, inplace=True)' or df[col] = df[col].method(value) instead, to perform the operation inplace on the original object.\n",
            "\n",
            "\n",
            "  data['CREDIT_LIMIT'].fillna(data['CREDIT_LIMIT'].mean(), inplace=True)\n",
            "<ipython-input-12-690bd64e4e48>:3: FutureWarning: A value is trying to be set on a copy of a DataFrame or Series through chained assignment using an inplace method.\n",
            "The behavior will change in pandas 3.0. This inplace method will never work because the intermediate object on which we are setting values always behaves as a copy.\n",
            "\n",
            "For example, when doing 'df[col].method(value, inplace=True)', try using 'df.method({col: value}, inplace=True)' or df[col] = df[col].method(value) instead, to perform the operation inplace on the original object.\n",
            "\n",
            "\n",
            "  data['MINIMUM_PAYMENTS'].fillna(data['MINIMUM_PAYMENTS'].median(), inplace=True)\n"
          ]
        }
      ]
    },
    {
      "cell_type": "code",
      "source": [
        "# Display basic information about the dataset\n",
        "data_info = {\n",
        "    \"head\": data.head(),\n",
        "    \"info\": data.info(),\n",
        "    \"missing_values\": data.isnull().sum(),\n",
        "    \"shape\": data.shape\n",
        "}\n",
        "\n",
        "data_info\n"
      ],
      "metadata": {
        "colab": {
          "base_uri": "https://localhost:8080/"
        },
        "id": "S4Lr_aQc2OeK",
        "outputId": "274e620c-a2fb-425f-9546-14e45e8af4ef"
      },
      "execution_count": null,
      "outputs": [
        {
          "output_type": "stream",
          "name": "stdout",
          "text": [
            "<class 'pandas.core.frame.DataFrame'>\n",
            "RangeIndex: 8950 entries, 0 to 8949\n",
            "Data columns (total 18 columns):\n",
            " #   Column                            Non-Null Count  Dtype  \n",
            "---  ------                            --------------  -----  \n",
            " 0   CUST_ID                           8950 non-null   object \n",
            " 1   BALANCE                           8950 non-null   float64\n",
            " 2   BALANCE_FREQUENCY                 8950 non-null   float64\n",
            " 3   PURCHASES                         8950 non-null   float64\n",
            " 4   ONEOFF_PURCHASES                  8950 non-null   float64\n",
            " 5   INSTALLMENTS_PURCHASES            8950 non-null   float64\n",
            " 6   CASH_ADVANCE                      8950 non-null   float64\n",
            " 7   PURCHASES_FREQUENCY               8950 non-null   float64\n",
            " 8   ONEOFF_PURCHASES_FREQUENCY        8950 non-null   float64\n",
            " 9   PURCHASES_INSTALLMENTS_FREQUENCY  8950 non-null   float64\n",
            " 10  CASH_ADVANCE_FREQUENCY            8950 non-null   float64\n",
            " 11  CASH_ADVANCE_TRX                  8950 non-null   int64  \n",
            " 12  PURCHASES_TRX                     8950 non-null   int64  \n",
            " 13  CREDIT_LIMIT                      8950 non-null   float64\n",
            " 14  PAYMENTS                          8950 non-null   float64\n",
            " 15  MINIMUM_PAYMENTS                  8950 non-null   float64\n",
            " 16  PRC_FULL_PAYMENT                  8950 non-null   float64\n",
            " 17  TENURE                            8950 non-null   int64  \n",
            "dtypes: float64(14), int64(3), object(1)\n",
            "memory usage: 1.2+ MB\n"
          ]
        },
        {
          "output_type": "execute_result",
          "data": {
            "text/plain": [
              "{'head':   CUST_ID      BALANCE  BALANCE_FREQUENCY  PURCHASES  ONEOFF_PURCHASES  \\\n",
              " 0  C10001    40.900749           0.818182      95.40              0.00   \n",
              " 1  C10002  3202.467416           0.909091       0.00              0.00   \n",
              " 2  C10003  2495.148862           1.000000     773.17            773.17   \n",
              " 3  C10004  1666.670542           0.636364    1499.00           1499.00   \n",
              " 4  C10005   817.714335           1.000000      16.00             16.00   \n",
              " \n",
              "    INSTALLMENTS_PURCHASES  CASH_ADVANCE  PURCHASES_FREQUENCY  \\\n",
              " 0                    95.4      0.000000             0.166667   \n",
              " 1                     0.0   6442.945483             0.000000   \n",
              " 2                     0.0      0.000000             1.000000   \n",
              " 3                     0.0    205.788017             0.083333   \n",
              " 4                     0.0      0.000000             0.083333   \n",
              " \n",
              "    ONEOFF_PURCHASES_FREQUENCY  PURCHASES_INSTALLMENTS_FREQUENCY  \\\n",
              " 0                    0.000000                          0.083333   \n",
              " 1                    0.000000                          0.000000   \n",
              " 2                    1.000000                          0.000000   \n",
              " 3                    0.083333                          0.000000   \n",
              " 4                    0.083333                          0.000000   \n",
              " \n",
              "    CASH_ADVANCE_FREQUENCY  CASH_ADVANCE_TRX  PURCHASES_TRX  CREDIT_LIMIT  \\\n",
              " 0                0.000000                 0              2        1000.0   \n",
              " 1                0.250000                 4              0        7000.0   \n",
              " 2                0.000000                 0             12        7500.0   \n",
              " 3                0.083333                 1              1        7500.0   \n",
              " 4                0.000000                 0              1        1200.0   \n",
              " \n",
              "       PAYMENTS  MINIMUM_PAYMENTS  PRC_FULL_PAYMENT  TENURE  \n",
              " 0   201.802084        139.509787          0.000000      12  \n",
              " 1  4103.032597       1072.340217          0.222222      12  \n",
              " 2   622.066742        627.284787          0.000000      12  \n",
              " 3     0.000000        312.343947          0.000000      12  \n",
              " 4   678.334763        244.791237          0.000000      12  ,\n",
              " 'info': None,\n",
              " 'missing_values': CUST_ID                             0\n",
              " BALANCE                             0\n",
              " BALANCE_FREQUENCY                   0\n",
              " PURCHASES                           0\n",
              " ONEOFF_PURCHASES                    0\n",
              " INSTALLMENTS_PURCHASES              0\n",
              " CASH_ADVANCE                        0\n",
              " PURCHASES_FREQUENCY                 0\n",
              " ONEOFF_PURCHASES_FREQUENCY          0\n",
              " PURCHASES_INSTALLMENTS_FREQUENCY    0\n",
              " CASH_ADVANCE_FREQUENCY              0\n",
              " CASH_ADVANCE_TRX                    0\n",
              " PURCHASES_TRX                       0\n",
              " CREDIT_LIMIT                        0\n",
              " PAYMENTS                            0\n",
              " MINIMUM_PAYMENTS                    0\n",
              " PRC_FULL_PAYMENT                    0\n",
              " TENURE                              0\n",
              " dtype: int64,\n",
              " 'shape': (8950, 18)}"
            ]
          },
          "metadata": {},
          "execution_count": 14
        }
      ]
    },
    {
      "cell_type": "code",
      "source": [
        "# Save the cleaned file\n",
        "data.to_csv('Cleaned_Credit_Card.csv', index=False)\n",
        "\n",
        "# Download the file\n",
        "from google.colab import files\n",
        "files.download('Cleaned_Credit_Card.csv')\n"
      ],
      "metadata": {
        "colab": {
          "base_uri": "https://localhost:8080/",
          "height": 17
        },
        "id": "Ir1dhoPz2co6",
        "outputId": "72825c25-0834-4d36-b54b-8db137ed7689"
      },
      "execution_count": null,
      "outputs": [
        {
          "output_type": "display_data",
          "data": {
            "text/plain": [
              "<IPython.core.display.Javascript object>"
            ],
            "application/javascript": [
              "\n",
              "    async function download(id, filename, size) {\n",
              "      if (!google.colab.kernel.accessAllowed) {\n",
              "        return;\n",
              "      }\n",
              "      const div = document.createElement('div');\n",
              "      const label = document.createElement('label');\n",
              "      label.textContent = `Downloading \"${filename}\": `;\n",
              "      div.appendChild(label);\n",
              "      const progress = document.createElement('progress');\n",
              "      progress.max = size;\n",
              "      div.appendChild(progress);\n",
              "      document.body.appendChild(div);\n",
              "\n",
              "      const buffers = [];\n",
              "      let downloaded = 0;\n",
              "\n",
              "      const channel = await google.colab.kernel.comms.open(id);\n",
              "      // Send a message to notify the kernel that we're ready.\n",
              "      channel.send({})\n",
              "\n",
              "      for await (const message of channel.messages) {\n",
              "        // Send a message to notify the kernel that we're ready.\n",
              "        channel.send({})\n",
              "        if (message.buffers) {\n",
              "          for (const buffer of message.buffers) {\n",
              "            buffers.push(buffer);\n",
              "            downloaded += buffer.byteLength;\n",
              "            progress.value = downloaded;\n",
              "          }\n",
              "        }\n",
              "      }\n",
              "      const blob = new Blob(buffers, {type: 'application/binary'});\n",
              "      const a = document.createElement('a');\n",
              "      a.href = window.URL.createObjectURL(blob);\n",
              "      a.download = filename;\n",
              "      div.appendChild(a);\n",
              "      a.click();\n",
              "      div.remove();\n",
              "    }\n",
              "  "
            ]
          },
          "metadata": {}
        },
        {
          "output_type": "display_data",
          "data": {
            "text/plain": [
              "<IPython.core.display.Javascript object>"
            ],
            "application/javascript": [
              "download(\"download_14949346-c12d-4f05-8971-b9d8b238091f\", \"Cleaned_Credit_Card.csv\", 1014487)"
            ]
          },
          "metadata": {}
        }
      ]
    }
  ]
}